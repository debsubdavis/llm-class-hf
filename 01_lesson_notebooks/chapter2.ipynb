{
 "cells": [
  {
   "cell_type": "markdown",
   "id": "c5dd6d4e",
   "metadata": {},
   "source": [
    "## Chapter 2"
   ]
  }
 ],
 "metadata": {
  "language_info": {
   "name": "python"
  }
 },
 "nbformat": 4,
 "nbformat_minor": 5
}
